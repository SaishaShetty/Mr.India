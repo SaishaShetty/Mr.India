{
 "cells": [
  {
   "cell_type": "code",
   "execution_count": 1,
   "metadata": {},
   "outputs": [],
   "source": [
    "import cv2\n",
    "import time\n",
    "import numpy as np"
   ]
  },
  {
   "cell_type": "code",
   "execution_count": 2,
   "metadata": {},
   "outputs": [],
   "source": [
    "cap = cv2.VideoCapture(0)\n",
    "time.sleep(3)\n",
    "background=0\n",
    "for i in range(30):\n",
    "\tret,background = cap.read()\n",
    "\n",
    "background = np.flip(background,axis=1)\n",
    "while(cap.isOpened()):\n",
    "\tret, img = cap.read()\n",
    "\t\n",
    "\t# Flipping the image (Can be uncommented if needed)\n",
    "\timg = np.flip(img,axis=1)\n",
    "\t\n",
    "\t# Converting image to HSV color space.\n",
    "\thsv = cv2.cvtColor(img, cv2.COLOR_BGR2HSV)\n",
    "\tvalue = (35, 35)\n",
    "\t\n",
    "\tblurred = cv2.GaussianBlur(hsv, value,0)\n",
    "\t\n",
    "\t# Defining lower range for red color detection.\n",
    "\tlower_red = np.array([0,120,70])\n",
    "\tupper_red = np.array([10,255,255])\n",
    "\tmask1 = cv2.inRange(hsv,lower_red,upper_red)\n",
    "\t\n",
    "\t# Defining upper range for red color detection\n",
    "\tlower_red = np.array([170,120,70])\n",
    "\tupper_red = np.array([180,255,255])\n",
    "\tmask2 = cv2.inRange(hsv,lower_red,upper_red)\n",
    "\t\n",
    "\t# Addition of the two masks to generate the final mask.\n",
    "\tmask = mask1+mask2\n",
    "\tmask = cv2.morphologyEx(mask, cv2.MORPH_OPEN, np.ones((5,5),np.uint8))\n",
    "\t\n",
    "\t# Replacing pixels corresponding to cloak with the background pixels.\n",
    "\timg[np.where(mask==255)] = background[np.where(mask==255)]\n",
    "\tcv2.imshow('Display',img)\n",
    "\tk = cv2.waitKey(10)\n",
    "\tif k == 27:\n",
    "\t\tbreak"
   ]
  }
 ],
 "metadata": {
  "kernelspec": {
   "display_name": "Python 3",
   "language": "python",
   "name": "python3"
  },
  "language_info": {
   "codemirror_mode": {
    "name": "ipython",
    "version": 3
   },
   "file_extension": ".py",
   "mimetype": "text/x-python",
   "name": "python",
   "nbconvert_exporter": "python",
   "pygments_lexer": "ipython3",
   "version": "3.7.6"
  }
 },
 "nbformat": 4,
 "nbformat_minor": 4
}
